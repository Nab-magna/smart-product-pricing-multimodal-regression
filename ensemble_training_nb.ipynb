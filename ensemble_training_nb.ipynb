{
 "cells": [
  {
   "cell_type": "code",
   "execution_count": 2,
   "metadata": {
    "_cell_guid": "b1076dfc-b9ad-4769-8c92-a6c4dae69d19",
    "_uuid": "8f2839f25d086af736a60e9eeb907d3b93b6e0e5",
    "execution": {
     "iopub.execute_input": "2025-10-11T10:02:38.099936Z",
     "iopub.status.busy": "2025-10-11T10:02:38.099287Z",
     "iopub.status.idle": "2025-10-11T10:02:38.111941Z",
     "shell.execute_reply": "2025-10-11T10:02:38.111202Z",
     "shell.execute_reply.started": "2025-10-11T10:02:38.099908Z"
    },
    "trusted": true
   },
   "outputs": [
    {
     "name": "stdout",
     "output_type": "stream",
     "text": [
      "/kaggle/input/embeddings/processed_data.csv\n",
      "/kaggle/input/embeddings/sbert_embeddings.npy\n",
      "/kaggle/input/dataset/train.csv\n",
      "/kaggle/input/dataset/test.csv\n"
     ]
    }
   ],
   "source": [
    "# This Python 3 environment comes with many helpful analytics libraries installed\n",
    "# It is defined by the kaggle/python Docker image: https://github.com/kaggle/docker-python\n",
    "# For example, here's several helpful packages to load\n",
    "\n",
    "import numpy as np # linear algebra\n",
    "import pandas as pd # data processing, CSV file I/O (e.g. pd.read_csv)\n",
    "\n",
    "# Input data files are available in the read-only \"../input/\" directory\n",
    "# For example, running this (by clicking run or pressing Shift+Enter) will list all files under the input directory\n",
    "\n",
    "import os\n",
    "for dirname, _, filenames in os.walk('/kaggle/input'):\n",
    "    for filename in filenames:\n",
    "        print(os.path.join(dirname, filename))\n",
    "\n",
    "# You can write up to 20GB to the current directory (/kaggle/working/) that gets preserved as output when you create a version using \"Save & Run All\" \n",
    "# You can also write temporary files to /kaggle/temp/, but they won't be saved outside of the current session"
   ]
  },
  {
   "cell_type": "code",
   "execution_count": 3,
   "metadata": {
    "execution": {
     "iopub.execute_input": "2025-10-11T10:05:48.639559Z",
     "iopub.status.busy": "2025-10-11T10:05:48.639192Z",
     "iopub.status.idle": "2025-10-11T10:05:57.466356Z",
     "shell.execute_reply": "2025-10-11T10:05:57.465316Z",
     "shell.execute_reply.started": "2025-10-11T10:05:48.639531Z"
    },
    "trusted": true
   },
   "outputs": [
    {
     "name": "stdout",
     "output_type": "stream",
     "text": [
      "====================================================================================================\n",
      "ML PIPELINE FOR PRODUCT PRICE PREDICTION\n",
      "====================================================================================================\n"
     ]
    }
   ],
   "source": [
    "# Cell 1: Imports and Setup\n",
    "import pandas as pd\n",
    "import numpy as np\n",
    "import matplotlib.pyplot as plt\n",
    "import seaborn as sns\n",
    "from sklearn.model_selection import KFold, cross_val_score, train_test_split\n",
    "from sklearn.metrics import mean_squared_error, mean_absolute_error, r2_score\n",
    "from sklearn.preprocessing import StandardScaler\n",
    "import warnings\n",
    "warnings.filterwarnings('ignore')\n",
    "\n",
    "# Import ML models\n",
    "from xgboost import XGBRegressor\n",
    "from lightgbm import LGBMRegressor\n",
    "from catboost import CatBoostRegressor\n",
    "\n",
    "import time\n",
    "\n",
    "# Set style\n",
    "sns.set_style(\"whitegrid\")\n",
    "plt.rcParams['figure.figsize'] = (14, 6)\n",
    "\n",
    "# Define SMAPE function with log transformation\n",
    "def smape(y_true, y_pred):\n",
    "    \"\"\"\n",
    "    Symmetric Mean Absolute Percentage Error\n",
    "    Uses log transformation for better price prediction evaluation\n",
    "    \"\"\"\n",
    "    # Convert to log scale for better percentage calculation\n",
    "    y_true_log = np.log1p(y_true)  # log(1 + y) to handle zeros\n",
    "    y_pred_log = np.log1p(y_pred)\n",
    "    \n",
    "    return 100 * np.mean(2 * np.abs(y_pred_log - y_true_log) / (np.abs(y_true_log) + np.abs(y_pred_log) + 1e-8))\n",
    "\n",
    "print(\"=\" * 100)\n",
    "print(\"ML PIPELINE FOR PRODUCT PRICE PREDICTION\")\n",
    "print(\"=\" * 100)"
   ]
  },
  {
   "cell_type": "code",
   "execution_count": 4,
   "metadata": {
    "execution": {
     "iopub.execute_input": "2025-10-11T10:07:18.772010Z",
     "iopub.status.busy": "2025-10-11T10:07:18.771264Z",
     "iopub.status.idle": "2025-10-11T10:07:23.346368Z",
     "shell.execute_reply": "2025-10-11T10:07:23.345432Z",
     "shell.execute_reply.started": "2025-10-11T10:07:18.771982Z"
    },
    "trusted": true
   },
   "outputs": [
    {
     "name": "stdout",
     "output_type": "stream",
     "text": [
      "\n",
      "📂 Loading processed data and embeddings...\n",
      "✅ Data loaded successfully!\n",
      "   Dataset shape: (75000, 7)\n",
      "   Embeddings shape: (75000, 384)\n",
      "\n",
      "📊 Target Variable (Price) Statistics:\n",
      "   Min price: $0.13\n",
      "   Max price: $61.37\n",
      "   Mean price: $20.34\n",
      "   Median price: $14.00\n"
     ]
    }
   ],
   "source": [
    "# Cell 2: Load Data & Embeddings\n",
    "print(\"\\n📂 Loading processed data and embeddings...\")\n",
    "\n",
    "df = pd.read_csv(\"/kaggle/input/embeddings/processed_data.csv\")\n",
    "embeddings = np.load(\"/kaggle/input/embeddings/sbert_embeddings.npy\")\n",
    "\n",
    "print(f\"✅ Data loaded successfully!\")\n",
    "print(f\"   Dataset shape: {df.shape}\")\n",
    "print(f\"   Embeddings shape: {embeddings.shape}\")\n",
    "\n",
    "# Display basic info about the target variable\n",
    "print(f\"\\n📊 Target Variable (Price) Statistics:\")\n",
    "print(f\"   Min price: ${df['price'].min():.2f}\")\n",
    "print(f\"   Max price: ${df['price'].max():.2f}\")\n",
    "print(f\"   Mean price: ${df['price'].mean():.2f}\")\n",
    "print(f\"   Median price: ${df['price'].median():.2f}\")"
   ]
  },
  {
   "cell_type": "code",
   "execution_count": 5,
   "metadata": {
    "execution": {
     "iopub.execute_input": "2025-10-11T10:07:57.683758Z",
     "iopub.status.busy": "2025-10-11T10:07:57.683414Z",
     "iopub.status.idle": "2025-10-11T10:07:58.472490Z",
     "shell.execute_reply": "2025-10-11T10:07:58.471526Z",
     "shell.execute_reply.started": "2025-10-11T10:07:57.683718Z"
    },
    "trusted": true
   },
   "outputs": [
    {
     "name": "stdout",
     "output_type": "stream",
     "text": [
      "\n",
      "====================================================================================================\n",
      "FEATURE ENGINEERING\n",
      "====================================================================================================\n",
      "\n",
      "📊 Feature Matrix:\n",
      "   Total features: 386\n",
      "   - SBERT embeddings: 384\n",
      "   - Text statistics: 2\n",
      "   Target variable shape: (75000,)\n",
      "\n",
      "✂️ Data Split:\n",
      "   Training set: (60000, 386)\n",
      "   Testing set: (15000, 386)\n"
     ]
    }
   ],
   "source": [
    "# Cell 3: Prepare Features\n",
    "print(\"\\n\" + \"=\" * 100)\n",
    "print(\"FEATURE ENGINEERING\")\n",
    "print(\"=\" * 100)\n",
    "\n",
    "# Create feature matrix combining embeddings and text statistics\n",
    "text_features = df[[\"word_count\", \"char_count\"]].values\n",
    "X = np.hstack([embeddings, text_features])\n",
    "\n",
    "# Target variable (using raw prices, no transformation)\n",
    "y = df[\"price\"].values\n",
    "\n",
    "print(f\"\\n📊 Feature Matrix:\")\n",
    "print(f\"   Total features: {X.shape[1]}\")\n",
    "print(f\"   - SBERT embeddings: {embeddings.shape[1]}\")\n",
    "print(f\"   - Text statistics: {text_features.shape[1]}\")\n",
    "print(f\"   Target variable shape: {y.shape}\")\n",
    "\n",
    "# Feature scaling (important for some models)\n",
    "scaler = StandardScaler()\n",
    "X_scaled = scaler.fit_transform(X)\n",
    "\n",
    "# Split data\n",
    "X_train, X_test, y_train, y_test = train_test_split(\n",
    "    X_scaled, y, test_size=0.2, random_state=42\n",
    ")\n",
    "\n",
    "print(f\"\\n✂️ Data Split:\")\n",
    "print(f\"   Training set: {X_train.shape}\")\n",
    "print(f\"   Testing set: {X_test.shape}\")"
   ]
  },
  {
   "cell_type": "code",
   "execution_count": 6,
   "metadata": {
    "execution": {
     "iopub.execute_input": "2025-10-11T10:08:18.025798Z",
     "iopub.status.busy": "2025-10-11T10:08:18.025521Z",
     "iopub.status.idle": "2025-10-11T10:08:18.035151Z",
     "shell.execute_reply": "2025-10-11T10:08:18.034322Z",
     "shell.execute_reply.started": "2025-10-11T10:08:18.025780Z"
    },
    "trusted": true
   },
   "outputs": [
    {
     "name": "stdout",
     "output_type": "stream",
     "text": [
      "\n",
      "====================================================================================================\n",
      "MODEL CONFIGURATION\n",
      "====================================================================================================\n",
      "\n",
      "🤖 Models configured:\n",
      "   ✓ XGBoost\n",
      "   ✓ LightGBM\n",
      "   ✓ CatBoost\n"
     ]
    }
   ],
   "source": [
    "# Cell 4: Define Models\n",
    "print(\"\\n\" + \"=\" * 100)\n",
    "print(\"MODEL CONFIGURATION\")\n",
    "print(\"=\" * 100)\n",
    "\n",
    "models = {\n",
    "    \"XGBoost\": XGBRegressor(\n",
    "        n_estimators=500,\n",
    "        max_depth=8,\n",
    "        learning_rate=0.05,\n",
    "        subsample=0.8,\n",
    "        colsample_bytree=0.8,\n",
    "        random_state=42,\n",
    "        n_jobs=-1,\n",
    "        verbosity=0\n",
    "    ),\n",
    "    \n",
    "    \"LightGBM\": LGBMRegressor(\n",
    "        n_estimators=500,\n",
    "        max_depth=8,\n",
    "        learning_rate=0.05,\n",
    "        num_leaves=50,\n",
    "        subsample=0.8,\n",
    "        colsample_bytree=0.8,\n",
    "        random_state=42,\n",
    "        n_jobs=-1,\n",
    "        verbose=-1\n",
    "    ),\n",
    "    \n",
    "    \"CatBoost\": CatBoostRegressor(\n",
    "        iterations=500,\n",
    "        depth=8,\n",
    "        learning_rate=0.05,\n",
    "        random_state=42,\n",
    "        verbose=0\n",
    "    )\n",
    "}\n",
    "\n",
    "print(\"\\n🤖 Models configured:\")\n",
    "for name in models.keys():\n",
    "    print(f\"   ✓ {name}\")"
   ]
  },
  {
   "cell_type": "code",
   "execution_count": 8,
   "metadata": {
    "execution": {
     "iopub.execute_input": "2025-10-11T10:11:15.556134Z",
     "iopub.status.busy": "2025-10-11T10:11:15.555620Z",
     "iopub.status.idle": "2025-10-11T10:16:07.877293Z",
     "shell.execute_reply": "2025-10-11T10:16:07.876281Z",
     "shell.execute_reply.started": "2025-10-11T10:11:15.556090Z"
    },
    "trusted": true
   },
   "outputs": [
    {
     "name": "stdout",
     "output_type": "stream",
     "text": [
      "\n",
      "====================================================================================================\n",
      "TRAINING MODELS ON FULL TRAINING SET\n",
      "====================================================================================================\n",
      "\n",
      "🎯 Training XGBoost on full training set...\n",
      "   ✅ Training completed in 139.22s\n",
      "      Train RMSE: 8.9942 | Test RMSE: 17.4061\n",
      "      Train R²: 0.7399 | Test R²: 0.0316\n",
      "      Train SMAPE: 19.4839% | Test SMAPE: 29.3921%\n",
      "\n",
      "🎯 Training LightGBM on full training set...\n",
      "   ✅ Training completed in 31.95s\n",
      "      Train RMSE: 13.0434 | Test RMSE: 17.1810\n",
      "      Train R²: 0.4529 | Test R²: 0.0565\n",
      "      Train SMAPE: 24.2265% | Test SMAPE: 29.2478%\n",
      "\n",
      "🎯 Training CatBoost on full training set...\n",
      "   ✅ Training completed in 121.15s\n",
      "      Train RMSE: 15.3892 | Test RMSE: 17.0864\n",
      "      Train R²: 0.2384 | Test R²: 0.0669\n",
      "      Train SMAPE: 26.8825% | Test SMAPE: 29.2262%\n"
     ]
    }
   ],
   "source": [
    "# Cell 5: Train Models on Full Training Set (No K-Fold)\n",
    "print(\"\\n\" + \"=\" * 100)\n",
    "print(\"TRAINING MODELS ON FULL TRAINING SET\")\n",
    "print(\"=\" * 100)\n",
    "\n",
    "trained_models = {}\n",
    "train_results = {}\n",
    "\n",
    "for name, model in models.items():\n",
    "    print(f\"\\n🎯 Training {name} on full training set...\")\n",
    "    start_time = time.time()\n",
    "    \n",
    "    # Train model\n",
    "    model.fit(X_train, y_train)\n",
    "    \n",
    "    # Make predictions\n",
    "    y_train_pred = model.predict(X_train)\n",
    "    y_test_pred = model.predict(X_test)\n",
    "    \n",
    "    # Calculate metrics\n",
    "    train_rmse = np.sqrt(mean_squared_error(y_train, y_train_pred))\n",
    "    train_mae = mean_absolute_error(y_train, y_train_pred)\n",
    "    train_r2 = r2_score(y_train, y_train_pred)\n",
    "    train_smape = smape(y_train, y_train_pred)\n",
    "    \n",
    "    test_rmse = np.sqrt(mean_squared_error(y_test, y_test_pred))\n",
    "    test_mae = mean_absolute_error(y_test, y_test_pred)\n",
    "    test_r2 = r2_score(y_test, y_test_pred)\n",
    "    test_smape = smape(y_test, y_test_pred)\n",
    "    \n",
    "    elapsed_time = time.time() - start_time\n",
    "    \n",
    "    # Store results\n",
    "    trained_models[name] = model\n",
    "    train_results[name] = {\n",
    "        'train_rmse': train_rmse,\n",
    "        'train_mae': train_mae,\n",
    "        'train_r2': train_r2,\n",
    "        'train_smape': train_smape,\n",
    "        'test_rmse': test_rmse,\n",
    "        'test_mae': test_mae,\n",
    "        'test_r2': test_r2,\n",
    "        'test_smape': test_smape,\n",
    "        'train_time': elapsed_time,\n",
    "        'y_test_pred': y_test_pred\n",
    "    }\n",
    "    \n",
    "    print(f\"   ✅ Training completed in {elapsed_time:.2f}s\")\n",
    "    print(f\"      Train RMSE: {train_rmse:.4f} | Test RMSE: {test_rmse:.4f}\")\n",
    "    print(f\"      Train R²: {train_r2:.4f} | Test R²: {test_r2:.4f}\")\n",
    "    print(f\"      Train SMAPE: {train_smape:.4f}% | Test SMAPE: {test_smape:.4f}%\")"
   ]
  },
  {
   "cell_type": "code",
   "execution_count": 9,
   "metadata": {
    "execution": {
     "iopub.execute_input": "2025-10-11T10:16:45.478989Z",
     "iopub.status.busy": "2025-10-11T10:16:45.478274Z",
     "iopub.status.idle": "2025-10-11T10:16:45.504172Z",
     "shell.execute_reply": "2025-10-11T10:16:45.502978Z",
     "shell.execute_reply.started": "2025-10-11T10:16:45.478956Z"
    },
    "trusted": true
   },
   "outputs": [
    {
     "name": "stdout",
     "output_type": "stream",
     "text": [
      "\n",
      "====================================================================================================\n",
      "MODEL PERFORMANCE COMPARISON\n",
      "====================================================================================================\n",
      "\n",
      "    Model  Train RMSE  Test RMSE  Train MAE  Test MAE  Train R²  Test R²  Train SMAPE  Test SMAPE  Training Time (s)\n",
      "CatBoost   15.389150  17.086390  12.194705 13.515751  0.238402 0.066879    26.882529   29.226169         121.146733\n",
      "LightGBM   13.043411  17.181027  10.345387 13.568828  0.452885 0.056514    24.226505   29.247807          31.947243\n",
      " XGBoost    8.994186  17.406093   7.196419 13.719302  0.739852 0.031633    19.483944   29.392061         139.215312\n",
      "\n",
      "🏆 BEST MODEL: CatBoost\n",
      "   Test RMSE: 17.0864\n",
      "   Test SMAPE: 29.2262%\n",
      "   Test R²: 0.0669\n"
     ]
    }
   ],
   "source": [
    "# Cell 7: Model Comparison\n",
    "print(\"\\n\" + \"=\" * 100)\n",
    "print(\"MODEL PERFORMANCE COMPARISON\")\n",
    "print(\"=\" * 100)\n",
    "\n",
    "results_df = pd.DataFrame({\n",
    "    'Model': list(train_results.keys()),\n",
    "    'Train RMSE': [train_results[m]['train_rmse'] for m in train_results.keys()],\n",
    "    'Test RMSE': [train_results[m]['test_rmse'] for m in train_results.keys()],\n",
    "    'Train MAE': [train_results[m]['train_mae'] for m in train_results.keys()],\n",
    "    'Test MAE': [train_results[m]['test_mae'] for m in train_results.keys()],\n",
    "    'Train R²': [train_results[m]['train_r2'] for m in train_results.keys()],\n",
    "    'Test R²': [train_results[m]['test_r2'] for m in train_results.keys()],\n",
    "    'Train SMAPE': [train_results[m]['train_smape'] for m in train_results.keys()],\n",
    "    'Test SMAPE': [train_results[m]['test_smape'] for m in train_results.keys()],\n",
    "    'Training Time (s)': [train_results[m]['train_time'] for m in train_results.keys()]\n",
    "})\n",
    "\n",
    "results_df = results_df.sort_values('Test SMAPE')  # Sort by SMAPE for price prediction\n",
    "print(\"\\n\", results_df.to_string(index=False))\n",
    "\n",
    "# Identify best model based on Test SMAPE (better for price prediction)\n",
    "best_model_name = results_df.iloc[0]['Model']\n",
    "print(f\"\\n🏆 BEST MODEL: {best_model_name}\")\n",
    "print(f\"   Test RMSE: {results_df.iloc[0]['Test RMSE']:.4f}\")\n",
    "print(f\"   Test SMAPE: {results_df.iloc[0]['Test SMAPE']:.4f}%\")\n",
    "print(f\"   Test R²: {results_df.iloc[0]['Test R²']:.4f}\")"
   ]
  },
  {
   "cell_type": "code",
   "execution_count": 10,
   "metadata": {
    "execution": {
     "iopub.execute_input": "2025-10-11T10:17:21.929956Z",
     "iopub.status.busy": "2025-10-11T10:17:21.929293Z",
     "iopub.status.idle": "2025-10-11T10:17:21.940297Z",
     "shell.execute_reply": "2025-10-11T10:17:21.939245Z",
     "shell.execute_reply.started": "2025-10-11T10:17:21.929928Z"
    },
    "trusted": true
   },
   "outputs": [
    {
     "name": "stdout",
     "output_type": "stream",
     "text": [
      "\n",
      "====================================================================================================\n",
      "FINAL SUMMARY\n",
      "====================================================================================================\n",
      "\n",
      "📊 Dataset Information:\n",
      "   Total samples: 75000\n",
      "   Training samples: 60000\n",
      "   Testing samples: 15000\n",
      "   Feature dimensions: 386\n",
      "\n",
      "🎯 Best Model Performance:\n",
      "   Model: CatBoost\n",
      "   Test RMSE: $17.09\n",
      "   Test MAE: $13.52\n",
      "   Test SMAPE: 29.23%\n",
      "   Test R² Score: 0.0669\n",
      "\n",
      "🏅 Model Rankings (by Test SMAPE):\n",
      "   3. CatBoost: SMAPE 29.23%, RMSE $17.09\n",
      "   2. LightGBM: SMAPE 29.25%, RMSE $17.18\n",
      "   1. XGBoost: SMAPE 29.39%, RMSE $17.41\n",
      "\n",
      "====================================================================================================\n",
      "✅ PIPELINE COMPLETE!\n",
      "====================================================================================================\n",
      "\n",
      "📁 Generated Files:\n",
      "   - model_results.csv\n",
      "   - best_model_*.pkl\n",
      "   - scaler.pkl\n",
      "   - All model pickle files\n",
      "   - model_comparison.png\n",
      "   - best_model_predictions.png\n",
      "   - error_distribution.png\n"
     ]
    }
   ],
   "source": [
    "# Cell 12: Final Summary\n",
    "print(\"\\n\" + \"=\" * 100)\n",
    "print(\"FINAL SUMMARY\")\n",
    "print(\"=\" * 100)\n",
    "\n",
    "print(f\"\\n📊 Dataset Information:\")\n",
    "print(f\"   Total samples: {len(df)}\")\n",
    "print(f\"   Training samples: {len(X_train)}\")\n",
    "print(f\"   Testing samples: {len(X_test)}\")\n",
    "print(f\"   Feature dimensions: {X.shape[1]}\")\n",
    "\n",
    "print(f\"\\n🎯 Best Model Performance:\")\n",
    "print(f\"   Model: {best_model_name}\")\n",
    "print(f\"   Test RMSE: ${results_df.iloc[0]['Test RMSE']:.2f}\")\n",
    "print(f\"   Test MAE: ${results_df.iloc[0]['Test MAE']:.2f}\")\n",
    "print(f\"   Test SMAPE: {results_df.iloc[0]['Test SMAPE']:.2f}%\")\n",
    "print(f\"   Test R² Score: {results_df.iloc[0]['Test R²']:.4f}\")\n",
    "\n",
    "print(f\"\\n🏅 Model Rankings (by Test SMAPE):\")\n",
    "for idx, row in results_df.iterrows():\n",
    "    print(f\"   {idx+1}. {row['Model']}: SMAPE {row['Test SMAPE']:.2f}%, RMSE ${row['Test RMSE']:.2f}\")\n",
    "\n",
    "print(\"\\n\" + \"=\" * 100)\n",
    "print(\"✅ PIPELINE COMPLETE!\")\n",
    "print(\"=\" * 100)\n",
    "\n",
    "print(\"\\n📁 Generated Files:\")\n",
    "print(\"   - model_results.csv\")\n",
    "print(\"   - best_model_*.pkl\")\n",
    "print(\"   - scaler.pkl\")\n",
    "print(\"   - All model pickle files\")\n",
    "print(\"   - model_comparison.png\")\n",
    "print(\"   - best_model_predictions.png\")\n",
    "print(\"   - error_distribution.png\")"
   ]
  }
 ],
 "metadata": {
  "kaggle": {
   "accelerator": "none",
   "dataSources": [
    {
     "datasetId": 8453616,
     "sourceId": 13333015,
     "sourceType": "datasetVersion"
    },
    {
     "datasetId": 8453657,
     "sourceId": 13333068,
     "sourceType": "datasetVersion"
    }
   ],
   "dockerImageVersionId": 31153,
   "isGpuEnabled": false,
   "isInternetEnabled": false,
   "language": "python",
   "sourceType": "notebook"
  },
  "kernelspec": {
   "display_name": "Python 3",
   "language": "python",
   "name": "python3"
  },
  "language_info": {
   "codemirror_mode": {
    "name": "ipython",
    "version": 3
   },
   "file_extension": ".py",
   "mimetype": "text/x-python",
   "name": "python",
   "nbconvert_exporter": "python",
   "pygments_lexer": "ipython3",
   "version": "3.11.13"
  }
 },
 "nbformat": 4,
 "nbformat_minor": 4
}
